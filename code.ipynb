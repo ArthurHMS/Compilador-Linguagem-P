{
 "cells": [
  {
   "cell_type": "code",
   "execution_count": 4,
   "id": "826b54e2",
   "metadata": {},
   "outputs": [],
   "source": [
    "import re"
   ]
  },
  {
   "cell_type": "code",
   "execution_count": null,
   "id": "33683311",
   "metadata": {},
   "outputs": [],
   "source": [
    "class Lexer:\n",
    "    def __init__(self,source_code):\n",
    "        self.source_code = source_code\n",
    "        self.tokens = []\n",
    "\n",
    "    def tokenize(self):\n",
    "        token_specification = [\n",
    "            (\"FUNCTION\", r'fn'),\n",
    "            (\"MAIN\", r'main'),\n",
    "            (\"LET\", r'let'),\n",
    "            (\"INT\", r'int'),\n",
    "            (\"CHAR\", r'char'),\n",
    "            (\"FLOAT\", r'float'),\n",
    "            (\"IF\", r'if'),\n",
    "            (\"ELSE\", r'else'),\n",
    "            (\"WHILE\", r'while'),\n",
    "            (\"PRINTLN\", r'println'),\n",
    "            (\"RETURN\", r'return'),\n",
    "            (\"LBRACKET\", r'('),\n",
    "            (\"RBRACKET\", r')'),\n",
    "            (\"LBRACE\", r'{'),\n",
    "            (\"RBRACE\", r'}'),\n",
    "            (\"ARROW\", r'->'),\n",
    "            (\"COLON\", r':'),\n",
    "            (\"SEMICOLON\", r';'),\n",
    "            (\"COMMA\", r','),\n",
    "            (\"ASSIGN\", r'='),\n",
    "            (\"EQ\", r'=='),\n",
    "            (\"NE\", r'!='),\n",
    "            (\"GT\", r'>'),\n",
    "            (\"GE\", r'>='),\n",
    "            (\"LT\", r'<'),\n",
    "            (\"LE\", r'<='),\n",
    "            (\"PLUS\", r'+'),\n",
    "            (\"MINUS\", r'-'),\n",
    "            (\"MULT\", r'*'),\n",
    "            (\"DIV\", r'/'),\n",
    "            (\"ID\", r'[a-zA-Z]([a-zA-Z0-9_])*'),\n",
    "            (\"INT_CONST\", r'[0-9]([0-9])*'),\n",
    "            (\"FLOAT_CONST\", r'[0-9]([0-9])*.[0-9]([0-9])*)'),\n",
    "            (\"CHAR_LITERAL\", r'Σ'),\n",
    "            (\"FMT_STRING\", r'Σ+'),\n",
    "            (\"MISMATCH\", r'.')\n",
    "            ]\n",
    "\n",
    "        tok_regex = '|'.join('(?P<%s>%s)' % pair for pair in token_specification)\n",
    "        for mo in re.finditer(tok_regex, self.source_code):\n",
    "            kind = mo.lastgroup\n",
    "            value = mo.group()\n",
    "            if kind == \"SKIP\":\n",
    "                continue\n",
    "            elif kind == \"MISMATCH\":\n",
    "                raise RuntimeError(f'Unexpected character: {value}')\n",
    "            else:\n",
    "                self.tokens.append((kind, value))\n",
    "\n"
   ]
  }
 ],
 "metadata": {
  "kernelspec": {
   "display_name": "myenv",
   "language": "python",
   "name": "python3"
  },
  "language_info": {
   "codemirror_mode": {
    "name": "ipython",
    "version": 3
   },
   "file_extension": ".py",
   "mimetype": "text/x-python",
   "name": "python",
   "nbconvert_exporter": "python",
   "pygments_lexer": "ipython3",
   "version": "3.12.3"
  }
 },
 "nbformat": 4,
 "nbformat_minor": 5
}
