{
 "cells": [
  {
   "cell_type": "code",
   "execution_count": 197,
   "id": "826b54e2",
   "metadata": {},
   "outputs": [],
   "source": [
    "#import\n",
    "\n",
    "import re\n",
    "import json"
   ]
  },
  {
   "cell_type": "code",
   "execution_count": 198,
   "id": "0d6e9c13",
   "metadata": {},
   "outputs": [],
   "source": [
    "#class token\n",
    "\n",
    "class Token:\n",
    "    def __init__(self, value, type, line):\n",
    "        self.value = value\n",
    "        self.type = type\n",
    "        self.line = line\n",
    "    \n",
    "    def __str__(self):\n",
    "        return f\"Token({self.type}, '{self.value}', line {self.line})\"\n",
    "    \n",
    "    def to_dict(self):\n",
    "        return {\n",
    "            \"token\": self.type,\n",
    "            \"linha\": self.line,\n",
    "            \"lexema\": self.value\n",
    "        }"
   ]
  },
  {
   "cell_type": "code",
   "execution_count": 199,
   "id": "aca80f84",
   "metadata": {},
   "outputs": [],
   "source": [
    "#class afd\n",
    "class AFD:\n",
    "    def __init__(self, name, transitions, start, accepts):\n",
    "        self.name = name\n",
    "        self.transitions = transitions\n",
    "        self.start = start\n",
    "        self.accepts = accepts\n",
    "        self.reset()\n",
    "\n",
    "    def reset(self):\n",
    "        self.state = self.start\n",
    "        self.lexeme = \"\"\n",
    "\n",
    "    def step(self, c):\n",
    "        trans = self.transitions.get(self.state, {})\n",
    "        if c in trans:\n",
    "            self.state = trans[c]\n",
    "        elif 'LETTER' in trans and c.isalpha():\n",
    "            self.state = trans['LETTER']\n",
    "        elif 'DIGIT' in trans and c.isdigit():\n",
    "            self.state = trans['DIGIT']\n",
    "        elif 'ANY' in trans and c != '\"' and c != \"'\" and c != '\\n':\n",
    "            self.state = trans['ANY']\n",
    "        else:\n",
    "            return False\n",
    "        self.lexeme += c\n",
    "        return True\n",
    "\n",
    "    def is_accepting(self):\n",
    "        return self.state in self.accepts\n",
    "\n",
    "    def token_type(self):\n",
    "        return self.accepts.get(self.state)"
   ]
  },
  {
   "cell_type": "code",
   "execution_count": null,
   "id": "7784808f",
   "metadata": {},
   "outputs": [],
   "source": [
    "#make afd\n",
    "def make_afd():\n",
    "    transitions = {\n",
    "        # Estado inicial (0)\n",
    "        0: {\n",
    "            'LETTER': 1, 'DIGIT': 2, '_': 1,\n",
    "            '=': 3, '!': 4, '>': 5, '<': 6, '-': 7,\n",
    "            '+': 8, '*': 9, '/': 10,\n",
    "            '(': 11, ')': 12, '{': 13, '}': 14,\n",
    "            ';': 15, ',': 16, ':': 17,\n",
    "            '\"': 18, \"'\": 30 \n",
    "        },\n",
    "\n",
    "        # Identificadores (1)\n",
    "        1: {'LETTER': 1, 'DIGIT': 1, '_': 1},\n",
    "\n",
    "        # Números inteiros (2)\n",
    "        2: {'DIGIT': 2, '.': 19},\n",
    "        \n",
    "        # Ponto decimal (19) -> vai para números float\n",
    "        19: {'DIGIT': 20},\n",
    "        \n",
    "        # Números float (20)\n",
    "        20: {'DIGIT': 20},\n",
    "\n",
    "        # Operadores relacionais e atribuição\n",
    "        3: {'=': 21},   # = -> ==\n",
    "        4: {'=': 22},   # ! -> !=\n",
    "        5: {'=': 23},   # > -> >=\n",
    "        6: {'=': 24},   # < -> <=\n",
    "        7: {'>': 25},   # - ->\n",
    "\n",
    "        # Strings (18)\n",
    "        18: {'ANY': 18, '\"': 26},\n",
    "\n",
    "        # Char literals (30)\n",
    "        30: {'ANY': 31},\n",
    "        31: {\"'\": 32},\n",
    "\n",
    "        # Comentários\n",
    "        10: {'/': 33},\n",
    "        33: {'ANY': 33, '\\n': 34},\n",
    "    }\n",
    "\n",
    "    accepts = {\n",
    "        # Identificadores\n",
    "        1: \"ID\",\n",
    "        \n",
    "        # Constantes numéricas\n",
    "        2: \"INT_CONST\",\n",
    "        20: \"FLOAT_CONST\",\n",
    "        \n",
    "        # Operadores simples\n",
    "        3: \"ASSIGN\",\n",
    "        7: \"MINUS\",\n",
    "        8: \"PLUS\",\n",
    "        9: \"MULT\",\n",
    "        10: \"DIV\",\n",
    "        \n",
    "        # Operadores relacionais compostos\n",
    "        21: \"EQ\",\n",
    "        22: \"NE\",\n",
    "        23: \"GE\",\n",
    "        24: \"LE\",\n",
    "        25: \"ARROW\",\n",
    "        5: \"GT\",\n",
    "        6: \"LT\",\n",
    "        \n",
    "        # Delimitadores\n",
    "        11: \"LBRACKET\",\n",
    "        12: \"RBRACKET\",\n",
    "        13: \"LBRACE\",\n",
    "        14: \"RBRACE\",\n",
    "        15: \"SEMICOLON\",\n",
    "        16: \"COMMA\",\n",
    "        17: \"COLON\",\n",
    "        \n",
    "        # Literais\n",
    "        26: \"FMT_STRING\",\n",
    "        32: \"CHAR_LITERAL\",\n",
    "    }\n",
    "\n",
    "    return AFD(\"global\", transitions, 0, accepts)"
   ]
  },
  {
   "cell_type": "code",
   "execution_count": 201,
   "id": "33683311",
   "metadata": {},
   "outputs": [],
   "source": [
    "#class lexer\n",
    "class LexerAFD:\n",
    "    def __init__(self, source):\n",
    "        self.source = source\n",
    "        self.tokens = []\n",
    "        self.afd = make_afd()\n",
    "\n",
    "    def tokenize(self):\n",
    "        i = 0\n",
    "        line = 1\n",
    "        in_comment = False\n",
    "        \n",
    "        while i < len(self.source):\n",
    "            c = self.source[i]\n",
    "\n",
    "            # Controle de linhas\n",
    "            if c == '\\n':\n",
    "                line += 1\n",
    "                if in_comment:\n",
    "                    in_comment = False\n",
    "                    i += 1\n",
    "                    continue\n",
    "\n",
    "            # Ignorar espaços e tabs\n",
    "            if c.isspace() or in_comment:\n",
    "                i += 1\n",
    "                continue\n",
    "\n",
    "            afd = self.afd\n",
    "            afd.reset()\n",
    "            j = i\n",
    "            \n",
    "            # Processar lexema com AFD\n",
    "            while j < len(self.source) and afd.step(self.source[j]):\n",
    "                # Verificar se entrou em comentário\n",
    "                if afd.state == 29:  # Estado de comentário\n",
    "                    in_comment = True\n",
    "                    break\n",
    "                j += 1\n",
    "\n",
    "            # Se está em comentário, continuar\n",
    "            if in_comment:\n",
    "                i = j\n",
    "                continue\n",
    "\n",
    "            # Verificar se reconheceu um token\n",
    "            if afd.is_accepting():\n",
    "                lex = afd.lexeme\n",
    "                tipo = afd.token_type()\n",
    "\n",
    "                # Palavras reservadas\n",
    "                reserved = {\n",
    "                    \"fn\": \"FUNCTION\", \"main\": \"MAIN\", \"let\": \"LET\", \n",
    "                    \"int\": \"INT\", \"float\": \"FLOAT\", \"char\": \"CHAR\", \n",
    "                    \"if\": \"IF\", \"else\": \"ELSE\", \"while\": \"WHILE\", \n",
    "                    \"println\": \"PRINTLN\", \"return\": \"RETURN\"\n",
    "                }\n",
    "                \n",
    "                if tipo == \"ID\" and lex in reserved:\n",
    "                    tipo = reserved[lex]\n",
    "\n",
    "                self.tokens.append(Token(lex, tipo, line))\n",
    "                i += len(lex)\n",
    "            else:\n",
    "                print(f\"Erro léxico: caractere inesperado '{self.source[i]}' na linha {line}\")\n",
    "                i += 1\n",
    "\n",
    "        return self.tokens"
   ]
  },
  {
   "cell_type": "code",
   "execution_count": 202,
   "id": "f5e894f6",
   "metadata": {},
   "outputs": [
    {
     "name": "stdout",
     "output_type": "stream",
     "text": [
      "Tokens extraídos de 'calculadora.p' foram salvos em 'calculadora_tokens.json' com sucesso!\n"
     ]
    }
   ],
   "source": [
    "#teste calculadora.p\n",
    "entrada = \"calculadora.p\"\n",
    "saida = \"calculadora_tokens.json\"\n",
    "\n",
    "lexer = LexerAFD(open(entrada, \"r\", encoding=\"utf-8\").read())\n",
    "tokens = lexer.tokenize()\n",
    "\n",
    "tokens_json = [token.to_dict() for token in tokens]\n",
    "\n",
    "with open(saida, \"w\", encoding=\"utf-8\") as f:\n",
    "    json.dump(tokens_json, f, indent=2, ensure_ascii=False)\n",
    "\n",
    "print(f\"Tokens extraídos de '{entrada}' foram salvos em '{saida}' com sucesso!\")"
   ]
  },
  {
   "cell_type": "code",
   "execution_count": 203,
   "id": "8830c5c9",
   "metadata": {},
   "outputs": [
    {
     "name": "stdout",
     "output_type": "stream",
     "text": [
      "Erro léxico: caractere inesperado '[' na linha 3\n",
      "Erro léxico: caractere inesperado ']' na linha 3\n",
      "Erro léxico: caractere inesperado '$' na linha 5\n",
      "Erro léxico: caractere inesperado '&' na linha 6\n",
      "Tokens extraídos de 'lexical_error.p' foram salvos em 'lexical_error_tokens.json' com sucesso!\n"
     ]
    }
   ],
   "source": [
    "#teste lexical_error.p\n",
    "entrada = \"lexical_error.p\"\n",
    "saida = \"lexical_error_tokens.json\"\n",
    "\n",
    "lexer = LexerAFD(open(entrada, \"r\", encoding=\"utf-8\").read())\n",
    "tokens = lexer.tokenize()\n",
    "\n",
    "tokens_json = [token.to_dict() for token in tokens]\n",
    "\n",
    "with open(saida, \"w\", encoding=\"utf-8\") as f:\n",
    "    json.dump(tokens_json, f, indent=2, ensure_ascii=False)\n",
    "\n",
    "print(f\"Tokens extraídos de '{entrada}' foram salvos em '{saida}' com sucesso!\")"
   ]
  },
  {
   "cell_type": "code",
   "execution_count": 204,
   "id": "3a2e20fd",
   "metadata": {},
   "outputs": [
    {
     "name": "stdout",
     "output_type": "stream",
     "text": [
      "Tokens extraídos de 'loop_simples.p' foram salvos em 'loop_simples_tokens.json' com sucesso!\n"
     ]
    }
   ],
   "source": [
    "#teste loop_simples.p\n",
    "entrada = \"loop_simples.p\"\n",
    "saida = \"loop_simples_tokens.json\"\n",
    "\n",
    "lexer = LexerAFD(open(entrada, \"r\", encoding=\"utf-8\").read())\n",
    "tokens = lexer.tokenize()\n",
    "\n",
    "tokens_json = [token.to_dict() for token in tokens]\n",
    "\n",
    "with open(saida, \"w\", encoding=\"utf-8\") as f:\n",
    "    json.dump(tokens_json, f, indent=2, ensure_ascii=False)\n",
    "\n",
    "print(f\"Tokens extraídos de '{entrada}' foram salvos em '{saida}' com sucesso!\")"
   ]
  },
  {
   "cell_type": "code",
   "execution_count": 205,
   "id": "4622861b",
   "metadata": {},
   "outputs": [
    {
     "name": "stdout",
     "output_type": "stream",
     "text": [
      "Tokens extraídos de 'media.p' foram salvos em 'media_tokens.json' com sucesso!\n"
     ]
    }
   ],
   "source": [
    "#teste media.p\n",
    "entrada = \"media.p\"\n",
    "saida = \"media_tokens.json\"\n",
    "\n",
    "lexer = LexerAFD(open(entrada, \"r\", encoding=\"utf-8\").read())\n",
    "tokens = lexer.tokenize()\n",
    "\n",
    "tokens_json = [token.to_dict() for token in tokens]\n",
    "\n",
    "with open(saida, \"w\", encoding=\"utf-8\") as f:\n",
    "    json.dump(tokens_json, f, indent=2, ensure_ascii=False)\n",
    "\n",
    "print(f\"Tokens extraídos de '{entrada}' foram salvos em '{saida}' com sucesso!\")"
   ]
  },
  {
   "cell_type": "code",
   "execution_count": 206,
   "id": "71c75b90",
   "metadata": {},
   "outputs": [
    {
     "name": "stdout",
     "output_type": "stream",
     "text": [
      "Tokens extraídos de 'soma.p' foram salvos em 'soma_tokens.json' com sucesso!\n"
     ]
    }
   ],
   "source": [
    "#teste soma.p\n",
    "entrada = \"soma.p\"\n",
    "saida = \"soma_tokens.json\"\n",
    "\n",
    "lexer = LexerAFD(open(entrada, \"r\", encoding=\"utf-8\").read())\n",
    "tokens = lexer.tokenize()\n",
    "\n",
    "tokens_json = [token.to_dict() for token in tokens]\n",
    "\n",
    "with open(saida, \"w\", encoding=\"utf-8\") as f:\n",
    "    json.dump(tokens_json, f, indent=2, ensure_ascii=False)\n",
    "\n",
    "print(f\"Tokens extraídos de '{entrada}' foram salvos em '{saida}' com sucesso!\")"
   ]
  },
  {
   "cell_type": "code",
   "execution_count": 207,
   "id": "7e6592f4",
   "metadata": {},
   "outputs": [
    {
     "name": "stdout",
     "output_type": "stream",
     "text": [
      "Tokens extraídos de 'tokens.p' foram salvos em 'tokens_tokens.json' com sucesso!\n"
     ]
    }
   ],
   "source": [
    "#teste tokens.p\n",
    "entrada = \"tokens.p\"\n",
    "saida = \"tokens_tokens.json\"\n",
    "\n",
    "lexer = LexerAFD(open(entrada, \"r\", encoding=\"utf-8\").read())\n",
    "tokens = lexer.tokenize()\n",
    "\n",
    "tokens_json = [token.to_dict() for token in tokens]\n",
    "\n",
    "with open(saida, \"w\", encoding=\"utf-8\") as f:\n",
    "    json.dump(tokens_json, f, indent=2, ensure_ascii=False)\n",
    "\n",
    "print(f\"Tokens extraídos de '{entrada}' foram salvos em '{saida}' com sucesso!\")"
   ]
  }
 ],
 "metadata": {
  "kernelspec": {
   "display_name": ".venv",
   "language": "python",
   "name": "python3"
  },
  "language_info": {
   "codemirror_mode": {
    "name": "ipython",
    "version": 3
   },
   "file_extension": ".py",
   "mimetype": "text/x-python",
   "name": "python",
   "nbconvert_exporter": "python",
   "pygments_lexer": "ipython3",
   "version": "3.12.3"
  }
 },
 "nbformat": 4,
 "nbformat_minor": 5
}
